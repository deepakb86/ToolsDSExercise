{
 "cells": [
  {
   "cell_type": "markdown",
   "id": "f77c5a9a",
   "metadata": {},
   "source": [
    "#  Jupyter Lab Exercise"
   ]
  },
  {
   "cell_type": "markdown",
   "id": "76cfb155",
   "metadata": {},
   "source": [
    "## Introduction\n",
    "This notebook is created as part of exercise activity of Jupyter notebook introduction. In this notebook , various activities will be covered which are related to jupyter notebook."
   ]
  },
  {
   "cell_type": "markdown",
   "id": "5c9e102b",
   "metadata": {},
   "source": [
    "### List of data science languages \n",
    "\n",
    "* Java \n",
    "* Julia \n",
    "* JavaScript\n",
    "* Python\n",
    "* R\n",
    "* Scala\n",
    "\n"
   ]
  },
  {
   "cell_type": "markdown",
   "id": "95934138",
   "metadata": {},
   "source": [
    "### List of data science libraries\n",
    "* Matplotlib\n",
    "* Numpy\n",
    "* Pandas\n",
    "* PyTorch\n",
    "* Seaborn\n",
    "* Scikit-learn\n",
    "* SciPy\n",
    "* TensorFlow"
   ]
  },
  {
   "cell_type": "markdown",
   "id": "82caa716",
   "metadata": {},
   "source": [
    "### List of Data Science tools \n",
    "|Sr No|Tool Name|\n",
    "|---|---| \n",
    "|1|Julyter Notebook|\n",
    "|2|Tableu|\n",
    "|3|Apache Spark|\n",
    "|4|Excel|\n",
    "|5|SQL|\n",
    "|6|MongoDB|\n",
    "|7|Julia|\n",
    "|8|Keras|\n",
    "|9|Matlab|\n",
    "|10|Python|\n",
    "|11|SAS|\n",
    "|12|R|\n"
   ]
  },
  {
   "cell_type": "markdown",
   "id": "84af6954",
   "metadata": {},
   "source": [
    "## Arithmetic expressions \n",
    "Arithmetic Expressions are used to perform mathematical operations like addition, substraction, Multiplication, division etc. \n",
    "\n",
    "### Addition\n",
    "a = 5+10\n",
    "\n",
    "\n",
    "### Substraction \n",
    "b = 10-5\n",
    "\n",
    "\n",
    "### Multiplication\n",
    "c= 10*5\n",
    "\n",
    "\n",
    "### division \n",
    "d= 50/5\n",
    "\n"
   ]
  },
  {
   "cell_type": "code",
   "execution_count": 4,
   "id": "aff8a987",
   "metadata": {},
   "outputs": [
    {
     "name": "stdout",
     "output_type": "stream",
     "text": [
      "17\n"
     ]
    }
   ],
   "source": [
    "#Code cell for multiply and add numbers in same expression \n",
    "\n",
    "a = ((5*2)+7)\n",
    "print(a)\n",
    "\n"
   ]
  },
  {
   "cell_type": "code",
   "execution_count": 10,
   "id": "adc3786a",
   "metadata": {},
   "outputs": [
    {
     "name": "stdout",
     "output_type": "stream",
     "text": [
      "Hours :  3.3333333333333335\n"
     ]
    }
   ],
   "source": [
    "#Code cell for convert minutes to hours \n",
    "\n",
    "#Function to convert minutes to hours \n",
    "\n",
    "def minutes_to_hours(minutes):\n",
    "    hours = minutes/60\n",
    "    return hours \n",
    "\n",
    "hr = minutes_to_hours(200)\n",
    "print(\"Hours : \", hr)\n",
    "\n"
   ]
  },
  {
   "cell_type": "markdown",
   "id": "d2224d98",
   "metadata": {},
   "source": [
    "### list of objectives of data science\n",
    "* Collecting data.\n",
    "* Processing data.\n",
    "* Exploring and visualizing data.\n",
    "* Analyzing (data) and/or applying machine learning (to data)\n",
    "* Deciding (or planning) based on acquired insight.\n"
   ]
  },
  {
   "cell_type": "markdown",
   "id": "0fe08596",
   "metadata": {},
   "source": [
    "### Author\n",
    "* Deepak Baravkar\n"
   ]
  },
  {
   "cell_type": "code",
   "execution_count": null,
   "id": "80383574",
   "metadata": {},
   "outputs": [],
   "source": []
  }
 ],
 "metadata": {
  "kernelspec": {
   "display_name": "Python 3",
   "language": "python",
   "name": "python3"
  },
  "language_info": {
   "codemirror_mode": {
    "name": "ipython",
    "version": 3
   },
   "file_extension": ".py",
   "mimetype": "text/x-python",
   "name": "python",
   "nbconvert_exporter": "python",
   "pygments_lexer": "ipython3",
   "version": "3.11.5"
  }
 },
 "nbformat": 4,
 "nbformat_minor": 5
}
